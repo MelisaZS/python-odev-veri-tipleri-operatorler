{
 "cells": [
  {
   "cell_type": "markdown",
   "id": "d3ab2b92",
   "metadata": {},
   "source": [
    "# Python Ödevi — Veri Tipleri ve Operatörler\n",
    "\n",
    "Melisa Zeynep Sarıgüzel / 20.08.2025"
   ]
  },
  {
   "cell_type": "markdown",
   "id": "982abd9c",
   "metadata": {},
   "source": [
    "## Bölüm 1: Veri Tipleri"
   ]
  },
  {
   "cell_type": "markdown",
   "id": "4dc3b56f",
   "metadata": {},
   "source": [
    "### Soru 1)Kullanıcıdan adını, yaşını ve boyunu (float) input() ile alınız. "
   ]
  },
  {
   "cell_type": "code",
   "execution_count": null,
   "id": "499c4bd3",
   "metadata": {},
   "outputs": [],
   "source": [
    "print(\"--- Görev 1 ---\")\n",
    "ad = input(\"Adiniz: \")\n",
    "yas = int(input(\"Yasiniz: \")) \n",
    "boy = float(input(\"Boyunuz (metre, orn. 1.65): \")) #metre cinsinden boy yazin.\n",
    "print(\"Merhaba\", ad + \"!\", \"Yasiniz\", yas, \"ve boyunuz\", boy, \"m.\")\n",
    "\n",
    "#--- Görev 1 ---\n",
    "#Adiniz: Melisa\n",
    "#Yasiniz: 19\n",
    "#Boyunuz (metre, orn. 1.65): 1.65\n",
    "#Merhaba Melisa! Yasiniz 19 ve boyunuz 1.65 m."
   ]
  },
  {
   "cell_type": "markdown",
   "id": "68ac5fb4",
   "metadata": {},
   "source": [
    "### Soru 2)Bir öğrencinin notlarını (Matematik, Fizik, Kimya) int tipinde değişkenlere atayın. "
   ]
  },
  {
   "cell_type": "code",
   "execution_count": null,
   "id": "9da4c419",
   "metadata": {},
   "outputs": [],
   "source": [
    "print('--- Görev 2 ---')\n",
    "matematik = int(input('Matematik notu: '))\n",
    "fizik= int(input('Fizik notu: '))\n",
    "kimya= int(input('Kimya notu: '))\n",
    "ortalama = (mat + fiz + kim) / 3  # float\n",
    "print('Ortalama:', ortalama)\n",
    "\n",
    "#--- Görev 2 ---\n",
    "#Matematik notu: 85\n",
    "#Fizik notu: 70\n",
    "#Kimya notu: 90\n",
    "#Ortalama: 81.66666666666667\n"
   ]
  },
  {
   "cell_type": "markdown",
   "id": "cf2b44f7",
   "metadata": {},
   "source": [
    "### Soru 3)Bir string değişkeni tanımlayın. Bu stringin ilk ve son karakterini, uzunluğunu ve ters çevrilmiş halini ekrana yazdırınız."
   ]
  },
  {
   "cell_type": "code",
   "execution_count": null,
   "id": "4de9fe05",
   "metadata": {},
   "outputs": [],
   "source": [
    "print(\"--- Görev 3 ---\")\n",
    "metin = input(\"Bir metin giriniz: \")\n",
    "if len(metin) == 0:\n",
    "    print(\"Boş metin girdiniz.\")\n",
    "else:\n",
    "    ilk = metin[0]\n",
    "    son = metin[-1]\n",
    "    uzunluk = len(metin)\n",
    "    tersi = metin[::-1]\n",
    "    print(\"İlk karakter:\", ilk)\n",
    "    print(\"Son karakter:\", son)\n",
    "    print(\"Uzunluk:\", uzunluk)\n",
    "    print(\"Ters:\", tersi)\n",
    "\n",
    "#--- Görev 3 ---\n",
    "#Bir metin giriniz: Merhaba\n",
    "#İlk karakter: M\n",
    "#Son karakter: a\n",
    "#Uzunluk: 7\n",
    "#Ters: abahreM"
   ]
  },
  {
   "cell_type": "markdown",
   "id": "978df993",
   "metadata": {},
   "source": [
    "## Bölüm 2: Operatörler"
   ]
  },
  {
   "cell_type": "markdown",
   "id": "e92c785b",
   "metadata": {},
   "source": [
    "### Soru 4) Kullanıcıdan iki sayı alınız. Bu sayılar üzerinde toplama, çıkarma, çarpma, bölme ve mod işlemleri yapınız."
   ]
  },
  {
   "cell_type": "code",
   "execution_count": null,
   "id": "229512f5",
   "metadata": {},
   "outputs": [],
   "source": [
    "print('--- Görev 4 ---')\n",
    "s1 = float(input('Birinci sayi: '))\n",
    "s2 = float(input('İkinci sayi: '))\n",
    "print('Toplam:', s1 + s2)\n",
    "print('Fark:', s1 - s2)\n",
    "print('Carpim:', s1 * s2)\n",
    "print('Bolum:', s1 / s2)\n",
    "print('Mod:', s1 % s2)\n",
    "\n",
    "#--- Görev 4 ---\n",
    "#Birinci sayi: 12\n",
    "#İkinci sayi: 5\n",
    "#Toplam: 17.0\n",
    "#Fark: 7.0\n",
    "#Carpim: 60.0\n",
    "#Bolum: 2.4\n",
    "#Mod: 2.0\n"
   ]
  },
  {
   "cell_type": "markdown",
   "id": "e8d6815c",
   "metadata": {},
   "source": [
    "### Soru 5) Bir öğrencinin ortalaması 50’den büyükse 'Geçti', değilse 'Kaldı' çıktısını veren bir program yazınız. (Karşılaştırma ve mantıksal operatörler kullanılacak.)"
   ]
  },
  {
   "cell_type": "code",
   "execution_count": null,
   "id": "fd9f3dc3",
   "metadata": {},
   "outputs": [],
   "source": [
    "print('--- Görev 5 ---')\n",
    "ortalama = float(input('Öğrencinin ortalamasi: '))\n",
    "sonuc = 'Geçti' if ortalama > 50 else 'Kaldi'\n",
    "print(sonuc)\n",
    "\n",
    "#--- Görev 5 ---\n",
    "#Öğrencinin ortalamasi: 65\n",
    "#Geçti\n",
    "\n",
    "#--- Görev 5 ---\n",
    "#Öğrencinin ortalamasi: 40\n",
    "#Kaldi"
   ]
  },
  {
   "cell_type": "markdown",
   "id": "0f812a39",
   "metadata": {},
   "source": [
    "### Sorun 6) Kullanıcıdan yaşını alınız. Eğer yaş 18’den büyükse 'Ehliyet alabilirsiniz', değilse 'Ehliyet alamazsınız' çıktısı veriniz."
   ]
  },
  {
   "cell_type": "code",
   "execution_count": null,
   "id": "98225feb",
   "metadata": {},
   "outputs": [],
   "source": [
    "print('--- Görev 6 ---')\n",
    "yas = int(input('Yasiniz: '))\n",
    "mesaj = 'Ehliyet alabilirsiniz' if yas >= 18 else 'Ehliyet alamazsiniz'\n",
    "print(mesaj)\n",
    "\n",
    "#--- Görev 6 ---\n",
    "#Yasiniz: 18\n",
    "#Ehliyet alabilirsiniz"
   ]
  },
  {
   "cell_type": "markdown",
   "id": "1a550e64",
   "metadata": {},
   "source": [
    "### 7) Bir ürünün fiyatını (float) ve indirim oranını (yüzde) alınız. İndirimli fiyatı hesaplayıp ekrana yazdırınız. (Aritmetik operatörler kullanılacak.)"
   ]
  },
  {
   "cell_type": "code",
   "execution_count": null,
   "id": "bfa30f87",
   "metadata": {},
   "outputs": [],
   "source": [
    "print('--- Görev 7 ---')\n",
    "fiyat = float(input('Urun fiyati (TL): '))\n",
    "indirim_yuzde = float(input('İndirim orani (%): '))\n",
    "indirimli = fiyat * (1 - indirim_yuzde/100)\n",
    "print('İndirimli fiyat:', indirimli, 'TL')\n",
    "\n",
    "#--- Görev 7 ---\n",
    "#Urun fiyati (TL): 250\n",
    "#İndirim orani (%): 20\n",
    "#İndirimli fiyat: 200.0 TL\n"
   ]
  },
  {
   "cell_type": "markdown",
   "id": "cbf6878e",
   "metadata": {},
   "source": [
    "### Soru 8)True ve False değerlerini içeren değişkenlerle mantıksal operatörleri (and, or, not) uygulayarak örnekler yapınız ve sonuçlarını ekrana yazdırınız."
   ]
  },
  {
   "cell_type": "code",
   "execution_count": null,
   "id": "ebf5b39d",
   "metadata": {},
   "outputs": [],
   "source": [
    "print('--- Görev 8 ---')\n",
    "a = True\n",
    "b = False\n",
    "print('a and b->', a and b)\n",
    "print('a or b->', a or b)\n",
    "print('not a->', not a)\n",
    "\n",
    "#--- Görev 8 ---\n",
    "#a and b-> False\n",
    "#a or b-> True\n",
    "#not a-> False\n"
   ]
  },
  {
   "cell_type": "markdown",
   "id": "e62d2d29",
   "metadata": {},
   "source": [
    "## Bölüm 3: Mini Proje"
   ]
  },
  {
   "cell_type": "markdown",
   "id": "0d04f1fe",
   "metadata": {},
   "source": [
    "### Soru9)Küçük bir alışveriş sepeti uygulaması yapınız:\n",
    "### -Kullanıcıdan 3 ürünün fiyatını alınız.\n",
    "### -Toplam fiyatı hesaplayınız.\n",
    "### -Eğer toplam fiyat 200 TL’den fazlaysa %10 indirim uygulayınız.\n",
    "### -Son fiyatı ekrana yazdırınız.\n"
   ]
  },
  {
   "cell_type": "code",
   "execution_count": null,
   "id": "78f64e17",
   "metadata": {},
   "outputs": [],
   "source": [
    "print('--- Görev 9 ---')\n",
    "u1 = float(input('1. ürün fiyati: '))\n",
    "u2 = float(input('2. ürün fiyati: '))\n",
    "u3 = float(input('3. ürün fiyati: '))\n",
    "toplam = u1 + u2 + u3\n",
    "print('Toplam:', toplam)\n",
    "son = toplam * 0.90 if toplam > 200 else toplam\n",
    "print('Ödenecek tutar:', son)\n",
    "\n",
    "#--- Görev 9 ---\n",
    "#1. ürün fiyati: 50\n",
    "#2. ürün fiyati: 70\n",
    "#3. ürün fiyati: 60\n",
    "#Toplam: 180.0\n",
    "#Ödenecek tutar: 180.0\n"
   ]
  },
  {
   "cell_type": "markdown",
   "id": "8a0d5d44",
   "metadata": {},
   "source": [
    "### Soru 10)Kullanıcıdan doğum yılını alınız. Bu yıl ile güncel yılı kullanarak yaşını hesaplayınız. Yaşına göre şu mesajlardan birini veriniz:\n",
    "### - 0-12: 'Çocuksunuz'\n",
    "### - 13-17: 'Ergensiniz'\n",
    "### - 18 ve üzeri: 'Yetişkinsiniz'\n"
   ]
  },
  {
   "cell_type": "code",
   "execution_count": null,
   "id": "e934e3ed",
   "metadata": {},
   "outputs": [],
   "source": [
    "print('--- Görev 10 ---')\n",
    "dogum_yili = int(input('Doğum yiliniz: '))\n",
    "guncel_yil = int(input('Güncel yil: '))\n",
    "yas = guncel_yil - dogum_yili\n",
    "print('Yasiniz:', yas)\n",
    "mesaj = ''\n",
    "if 0 <= yas <= 12:\n",
    "    mesaj = 'Çocuksunuz'\n",
    "elif 13 <= yas <= 17:\n",
    "    mesaj = 'Ergensiniz'\n",
    "else:\n",
    "    mesaj = 'Yetişkinsiniz'\n",
    "print(mesaj)\n",
    "\n",
    "#--- Görev 10 ---\n",
    "#Doğum yiliniz: 2018\n",
    "#Güncel yil: 2025\n",
    "#Yasiniz: 7\n",
    "#Çocuksunuz\n",
    "\n",
    "#--- Görev 10 ---\n",
    "#Doğum yiliniz: 2010\n",
    "#Güncel yil: 2025\n",
    "#Yasiniz: 15\n",
    "#Ergensiniz\n",
    "\n",
    "#--- Görev 10 ---\n",
    "#Doğum yiliniz: 1995\n",
    "#Güncel yil: 2025\n",
    "#Yasiniz: 30\n",
    "#Yetişkinsiniz\n"
   ]
  }
 ],
 "metadata": {
  "language_info": {
   "name": "python"
  }
 },
 "nbformat": 4,
 "nbformat_minor": 5
}
